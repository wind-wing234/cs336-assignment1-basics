{
 "cells": [
  {
   "cell_type": "code",
   "execution_count": 14,
   "id": "5e90a850",
   "metadata": {},
   "outputs": [
    {
     "name": "stdout",
     "output_type": "stream",
     "text": [
      "[228, 189, 160, 229, 165, 189]\n"
     ]
    },
    {
     "ename": "UnicodeDecodeError",
     "evalue": "'utf-8' codec can't decode byte 0xe4 in position 0: unexpected end of data",
     "output_type": "error",
     "traceback": [
      "\u001b[31m---------------------------------------------------------------------------\u001b[39m",
      "\u001b[31mUnicodeDecodeError\u001b[39m                        Traceback (most recent call last)",
      "\u001b[36mCell\u001b[39m\u001b[36m \u001b[39m\u001b[32mIn[14]\u001b[39m\u001b[32m, line 6\u001b[39m\n\u001b[32m      3\u001b[39m     \u001b[38;5;28mprint\u001b[39m([\u001b[38;5;28mbytes\u001b[39m([b]).decode(\u001b[33m\"\u001b[39m\u001b[33mutf-8\u001b[39m\u001b[33m\"\u001b[39m) \u001b[38;5;28;01mfor\u001b[39;00m b \u001b[38;5;129;01min\u001b[39;00m bytestring])\n\u001b[32m      4\u001b[39m     \u001b[38;5;28;01mreturn\u001b[39;00m \u001b[33m\"\u001b[39m\u001b[33m\"\u001b[39m.join([\u001b[38;5;28mbytes\u001b[39m([b]).decode(\u001b[33m\"\u001b[39m\u001b[33mutf-8\u001b[39m\u001b[33m\"\u001b[39m) \u001b[38;5;28;01mfor\u001b[39;00m b \u001b[38;5;129;01min\u001b[39;00m bytestring])\n\u001b[32m----> \u001b[39m\u001b[32m6\u001b[39m \u001b[43mdecode_utf8_bytes_to_str_wrong\u001b[49m\u001b[43m(\u001b[49m\u001b[33;43m\"\u001b[39;49m\u001b[33;43m你好\u001b[39;49m\u001b[33;43m\"\u001b[39;49m\u001b[43m.\u001b[49m\u001b[43mencode\u001b[49m\u001b[43m(\u001b[49m\u001b[33;43m\"\u001b[39;49m\u001b[33;43mutf-8\u001b[39;49m\u001b[33;43m\"\u001b[39;49m\u001b[43m)\u001b[49m\u001b[43m)\u001b[49m\n",
      "\u001b[36mCell\u001b[39m\u001b[36m \u001b[39m\u001b[32mIn[14]\u001b[39m\u001b[32m, line 3\u001b[39m, in \u001b[36mdecode_utf8_bytes_to_str_wrong\u001b[39m\u001b[34m(bytestring)\u001b[39m\n\u001b[32m      1\u001b[39m \u001b[38;5;28;01mdef\u001b[39;00m\u001b[38;5;250m \u001b[39m\u001b[34mdecode_utf8_bytes_to_str_wrong\u001b[39m(bytestring: \u001b[38;5;28mbytes\u001b[39m):\n\u001b[32m      2\u001b[39m     \u001b[38;5;28mprint\u001b[39m(\u001b[38;5;28mlist\u001b[39m(bytestring))\n\u001b[32m----> \u001b[39m\u001b[32m3\u001b[39m     \u001b[38;5;28mprint\u001b[39m([\u001b[38;5;28;43mbytes\u001b[39;49m\u001b[43m(\u001b[49m\u001b[43m[\u001b[49m\u001b[43mb\u001b[49m\u001b[43m]\u001b[49m\u001b[43m)\u001b[49m\u001b[43m.\u001b[49m\u001b[43mdecode\u001b[49m\u001b[43m(\u001b[49m\u001b[33;43m\"\u001b[39;49m\u001b[33;43mutf-8\u001b[39;49m\u001b[33;43m\"\u001b[39;49m\u001b[43m)\u001b[49m \u001b[38;5;28;01mfor\u001b[39;00m b \u001b[38;5;129;01min\u001b[39;00m bytestring])\n\u001b[32m      4\u001b[39m     \u001b[38;5;28;01mreturn\u001b[39;00m \u001b[33m\"\u001b[39m\u001b[33m\"\u001b[39m.join([\u001b[38;5;28mbytes\u001b[39m([b]).decode(\u001b[33m\"\u001b[39m\u001b[33mutf-8\u001b[39m\u001b[33m\"\u001b[39m) \u001b[38;5;28;01mfor\u001b[39;00m b \u001b[38;5;129;01min\u001b[39;00m bytestring])\n",
      "\u001b[31mUnicodeDecodeError\u001b[39m: 'utf-8' codec can't decode byte 0xe4 in position 0: unexpected end of data"
     ]
    }
   ],
   "source": [
    "def decode_utf8_bytes_to_str_wrong(bytestring: bytes):\n",
    "    print(list(bytestring))\n",
    "    print([bytes([b]).decode(\"utf-8\") for b in bytestring])\n",
    "    return \"\".join([bytes([b]).decode(\"utf-8\") for b in bytestring])\n",
    "\n",
    "decode_utf8_bytes_to_str_wrong(\"你好\".encode(\"utf-8\"))"
   ]
  },
  {
   "cell_type": "code",
   "execution_count": 25,
   "id": "4737c9f7",
   "metadata": {},
   "outputs": [
    {
     "data": {
      "text/plain": [
       "['hello world ', ' this is a test ', ' 1234 ', ' ', '']"
      ]
     },
     "execution_count": 25,
     "metadata": {},
     "output_type": "execute_result"
    }
   ],
   "source": [
    "PAT = r\"\"\"'(?:[sdmt]|ll|ve|re)| ?\\p{L}+| ?\\p{N}+| ?[^\\s\\p{L}\\p{N}]+|\\s+(?!\\S)|\\s+\"\"\"\n",
    "\n",
    "import regex as re\n",
    "re.finditer(PAT, \"some text that i'll pre-tokenize 3.12 114514 <你好小笼包>\")\n",
    "\n",
    "corpus = \"hello world <|begin|> this is a test <|end|> 1234 <|pad|> <|unk|>\"\n",
    "special_tokens = [\"<|begin|>\", \"<|end|>\", \"<|pad|>\", \"<|unk|>\"]\n",
    "pattern = \"|\".join(re.escape(token) for token in special_tokens)\n",
    "docs = re.split(pattern, corpus) \n",
    "docs"
   ]
  },
  {
   "cell_type": "code",
   "execution_count": 26,
   "id": "5e77e1c1",
   "metadata": {},
   "outputs": [
    {
     "data": {
      "text/plain": [
       "{b'hello': 1,\n",
       " b' world': 1,\n",
       " b' hello': 3,\n",
       " b' this': 1,\n",
       " b' is': 1,\n",
       " b' a': 1,\n",
       " b' test': 1,\n",
       " b' ': 3,\n",
       " b' 1234': 1}"
      ]
     },
     "execution_count": 26,
     "metadata": {},
     "output_type": "execute_result"
    }
   ],
   "source": [
    "corpus = \"hello world hello hello hello<|begin|> this is a test <|end|> 1234 <|pad|> <|unk|>\"\n",
    "special_tokens = [\"<|begin|>\", \"<|end|>\", \"<|pad|>\", \"<|unk|>\"]\n",
    "\n",
    "# 去除 special_tokens\n",
    "pattern = \"|\".join(re.escape(token) for token in special_tokens)\n",
    "docs = re.split(pattern, corpus)    # 将文件按照<|endoftext|>切分为多个文档\n",
    "\n",
    "# 预分词，建立词频字典\n",
    "word_freq = {}\n",
    "PAT = r\"\"\"'(?:[sdmt]|ll|ve|re)| ?\\p{L}+| ?\\p{N}+| ?[^\\s\\p{L}\\p{N}]+|\\s+(?!\\S)|\\s+\"\"\"\n",
    "\n",
    "for doc in docs:\n",
    "    if not doc:\n",
    "        continue\n",
    "    for word in re.finditer(PAT, doc):\n",
    "        word_bytes = word.group(0).encode('utf-8')\n",
    "        if word_bytes in word_freq:\n",
    "            word_freq[word_bytes] += 1\n",
    "        else:\n",
    "            word_freq[word_bytes] = 1\n",
    "word_freq"
   ]
  },
  {
   "cell_type": "code",
   "execution_count": 4,
   "id": "356d2bd9",
   "metadata": {},
   "outputs": [
    {
     "name": "stdout",
     "output_type": "stream",
     "text": [
      "this is a test\u0000string\n"
     ]
    }
   ],
   "source": [
    "print(\"this is a test\" + chr(0) + \"string\")"
   ]
  },
  {
   "cell_type": "code",
   "execution_count": 2,
   "id": "9a9969fa",
   "metadata": {},
   "outputs": [
    {
     "name": "stdout",
     "output_type": "stream",
     "text": [
      "类型           | 是否相等\n",
      "------------------------------\n",
      "等比缩放矩阵       | ✅ 相等\n",
      "对角矩阵（非等比）    | ❌ 不相等\n",
      "随机矩阵         | ❌ 不相等\n",
      "上三角矩阵        | ❌ 不相等\n",
      "下三角矩阵        | ❌ 不相等\n",
      "对称矩阵         | ❌ 不相等\n"
     ]
    }
   ],
   "source": [
    "import numpy as np\n",
    "\n",
    "def make_rope_rotation(theta, dim):\n",
    "    \"\"\"构建 RoPE 旋转矩阵，维度 dim 必须为偶数\"\"\"\n",
    "    assert dim % 2 == 0\n",
    "    R = np.zeros((dim, dim))\n",
    "    for i in range(0, dim, 2):\n",
    "        cos_t = np.cos(theta)\n",
    "        sin_t = np.sin(theta)\n",
    "        R[i, i] = cos_t\n",
    "        R[i, i+1] = -sin_t\n",
    "        R[i+1, i] = sin_t\n",
    "        R[i+1, i+1] = cos_t\n",
    "    return R\n",
    "\n",
    "def test_commutativity(W, x, R, eps=1e-6):\n",
    "    \"\"\"测试是否 R @ (W @ x) == W @ (R @ x)\"\"\"\n",
    "    r1 = R @ (W @ x)\n",
    "    r2 = W @ (R @ x)\n",
    "    return np.allclose(r1, r2, atol=eps)\n",
    "\n",
    "def run_tests():\n",
    "    dim = 8\n",
    "    theta = np.pi / 4  # 45度旋转\n",
    "    R = make_rope_rotation(theta, dim)\n",
    "    x = np.random.randn(dim)\n",
    "\n",
    "    A = np.random.randn(dim, dim)\n",
    "    test_cases = {\n",
    "        \"等比缩放矩阵\": np.eye(dim) * 2,\n",
    "        \"对角矩阵（非等比）\": np.diag(np.arange(1, dim+1)),\n",
    "        \"随机矩阵\": np.random.randn(dim, dim),\n",
    "        \"上三角矩阵\": np.triu(np.random.randn(dim, dim)),\n",
    "        \"下三角矩阵\": np.tril(np.random.randn(dim, dim)),\n",
    "        \"对称矩阵\": A @ A.T,\n",
    "    }\n",
    "\n",
    "    print(f\"{'类型':<12} | 是否相等\")\n",
    "    print(\"-\" * 30)\n",
    "    for name, W in test_cases.items():\n",
    "        if callable(W): W = W()\n",
    "        same = test_commutativity(W, x, R)\n",
    "        print(f\"{name:<12} | {'✅ 相等' if same else '❌ 不相等'}\")\n",
    "\n",
    "run_tests()"
   ]
  }
 ],
 "metadata": {
  "kernelspec": {
   "display_name": ".venv",
   "language": "python",
   "name": "python3"
  },
  "language_info": {
   "codemirror_mode": {
    "name": "ipython",
    "version": 3
   },
   "file_extension": ".py",
   "mimetype": "text/x-python",
   "name": "python",
   "nbconvert_exporter": "python",
   "pygments_lexer": "ipython3",
   "version": "3.12.9"
  }
 },
 "nbformat": 4,
 "nbformat_minor": 5
}
